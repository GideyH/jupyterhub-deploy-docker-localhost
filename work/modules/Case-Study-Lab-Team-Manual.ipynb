{
 "cells": [
  {
   "cell_type": "markdown",
   "metadata": {},
   "source": [
    "# Case Study Lab Team Manual"
   ]
  },
  {
   "cell_type": "markdown",
   "metadata": {},
   "source": [
    "## Jupyter Notebook Tutorial"
   ]
  },
  {
   "cell_type": "markdown",
   "metadata": {},
   "source": [
    "You can find the Jupyter Notebook Tutorial in the **shared/Jupyter-Notebook-Tutorial**. Run the cell below to locate it. Notebooks have an **.ipynb** extension. Learn to use the keyboard shortcuts there, it will make your life easier!"
   ]
  },
  {
   "cell_type": "code",
   "execution_count": 7,
   "metadata": {},
   "outputs": [
    {
     "name": "stdout",
     "output_type": "stream",
     "text": [
      "total 92\r\n",
      "drwxr-xr-x. 4 jovyan users    89 Jul 18 21:09 .\r\n",
      "drwxrwxrwx. 8 jovyan users   132 Jul 18 21:32 ..\r\n",
      "drwxr-xr-x. 2 jovyan users  4096 Jul 17 20:33 images\r\n",
      "drwxr-xr-x. 2 jovyan users    60 Jul 18 20:37 .ipynb_checkpoints\r\n",
      "-rw-r--r--. 1 jovyan users 87214 Jul 18 21:09 Jupyter Notebook Users Manual.ipynb\r\n"
     ]
    }
   ],
   "source": [
    "!ls -la ../../shared/Jupyter-Notebook-Tutorial"
   ]
  },
  {
   "cell_type": "markdown",
   "metadata": {},
   "source": [
    "## Jupyter Notebook Kernels"
   ]
  },
  {
   "cell_type": "markdown",
   "metadata": {},
   "source": [
    "The base notebook has 3 kernels loaded:\n",
    "* Python version 3.6\n",
    "* Python version 2.7\n",
    "* R version 3.3.2 (\"Sincere Pumpkin Patch\")\n",
    "\n",
    "**Julia** can be installed using the 2 Julia scripts in the **/srv/modules** directory."
   ]
  },
  {
   "cell_type": "markdown",
   "metadata": {},
   "source": [
    "## Why \"Jupyter\"?"
   ]
  },
  {
   "cell_type": "markdown",
   "metadata": {},
   "source": [
    "**Jupyter** is a loose acronym for **JU**-lia, **PYT**-hon and **R**, three popular data science programming languages."
   ]
  },
  {
   "cell_type": "markdown",
   "metadata": {
    "collapsed": true,
    "hideCode": true,
    "hidePrompt": true
   },
   "source": [
    "## Important Terminal Commands to Remember"
   ]
  },
  {
   "cell_type": "markdown",
   "metadata": {
    "collapsed": true,
    "hideCode": true,
    "hidePrompt": true
   },
   "source": [
    "*Table 1*. List of important commands (type as is when using the terminal, precede with ! when running the commands in a code cell)\n",
    "\n",
    "|Command|Meaning|\n",
    "|:---|:---|\n",
    "| ```ls -la``` | Display detailed list of current directory |\n",
    "| ```ls -la mydir```| Display detailed list of directory **mydir**|\n",
    "| ```pwd```| Display full path and name of current directory|\n",
    "| ```zip -r file.zip mydir```| Recursively compress (zip) all files and directories of **mydir** (filename will be **file.zip**|\n",
    "| ```unzip file.zip```| Literally what it says...|\n",
    "| ```mv file-a file-b``` | Rename **file-a** to **file-b** |\n",
    "| ```mv file-a dir-1```| Move file **file-a** to directory **dir-1** (move and rename share the same command)|\n",
    "| ```mv dir-1 dir-2```| Renames **dir-1** directory to **dir-2**|\n",
    "| ```cp file-a file-b```| Copy **file-a** to **file-b** (there will be two files as a result)|\n"
   ]
  },
  {
   "cell_type": "markdown",
   "metadata": {},
   "source": [
    "> You can practice typing the commands using the code cell below. Remember to precede the command with a **!**"
   ]
  },
  {
   "cell_type": "code",
   "execution_count": null,
   "metadata": {
    "collapsed": true,
    "hideCode": true,
    "hidePrompt": true
   },
   "outputs": [],
   "source": []
  },
  {
   "cell_type": "markdown",
   "metadata": {},
   "source": [
    "## Installing software Linux packages"
   ]
  },
  {
   "cell_type": "markdown",
   "metadata": {},
   "source": [
    "The Notebook server runs the **Debian** flavor of Linux and uses the **apt**-type package manager. Hopefully, there will be very little need to install packages, but if ever the need arises, one can always do:  \n",
    "  \n",
    "```$ sudo apt-get install package-name```   \n",
    "  \n",
    "The command **sudo** is used because installing packages is a super user function."
   ]
  },
  {
   "cell_type": "markdown",
   "metadata": {
    "collapsed": true,
    "hideCode": true,
    "hidePrompt": true
   },
   "source": [
    "## Scripts in the `/srv/modules` directory"
   ]
  },
  {
   "cell_type": "markdown",
   "metadata": {},
   "source": [
    "The **/srv/modules** directory is not accessible directly from the Jupyter Notebook dashboard. \n",
    "  \n",
    "> You can list its contents by running the following cell. All of them are owned by the **root** (super) user so use with caution."
   ]
  },
  {
   "cell_type": "code",
   "execution_count": 8,
   "metadata": {},
   "outputs": [
    {
     "name": "stdout",
     "output_type": "stream",
     "text": [
      "total 28\r\n",
      "drwxr-xr-x.  2 root root  203 Jul 19 02:08 .\r\n",
      "drwxr-xr-x.  3 root root   21 Jul 19 02:08 ..\r\n",
      "-rwxrwxrwx. 12 root root  586 Jul 13 04:51 install-julia-kernel.sh\r\n",
      "-rwxrwxrwx. 12 root root 1491 Jul 13 04:46 load-julia-modules.sh\r\n",
      "-rwxrwxrwx. 12 root root  972 Jul 10 02:26 load-mran-r.sh\r\n",
      "-rwxrwxrwx. 12 root root 1044 Jul 13 04:34 load-python2-modules.sh\r\n",
      "-rwxrwxrwx. 12 root root 1000 Jul 13 04:34 load-python3-modules.sh\r\n",
      "-rwxrwxrwx. 12 root root   50 Jul 10 02:26 load-r-essentials.sh\r\n",
      "-rwxrwxrwx. 12 root root  947 Jul 13 04:35 load-r-modules.sh\r\n"
     ]
    }
   ],
   "source": [
    "!ls -la /srv/modules"
   ]
  },
  {
   "cell_type": "markdown",
   "metadata": {},
   "source": [
    "| Script|Function|\n",
    "|:---|:---|\n",
    "|```load-python3-modules.sh```|Load additional Python 3 libraries|\n",
    "|```load-python2-modules.sh```|Load additional Python 2 libraries|\n",
    "|```load-r-modules.sh```|Load additional R packages|\n",
    "|```install-julia-kernel.sh```|Install Julia language kernel|\n",
    "|```load-julia-modules.sh```|Load additional Julia packages|\n",
    "|```restore-tutorial.sh```|Restore the \"Jupyter Notebook Tutorial\" in the **shared** folder in case of inadvertent deletion|\n",
    "|```restore-default-theme.sh```| Restore the default theme and custom logo|\n",
    "|```install-lab-manual.sh```| Install this notebook in your **notebook** directory. You should run this script from a terminal and inside the **notebook** directory.|"
   ]
  },
  {
   "cell_type": "markdown",
   "metadata": {},
   "source": [
    "## Goodies!"
   ]
  },
  {
   "cell_type": "markdown",
   "metadata": {},
   "source": [
    "Tired of the white, bright interface? You can change the Jupyter Notebook theme to a darker one.   \n",
    "  \n",
    "> Open a terminal and type:  \n",
    "  \n",
    "> ```$ jt```\n",
    "\n",
    "Run the the code cell below to list available themes... "
   ]
  },
  {
   "cell_type": "code",
   "execution_count": 10,
   "metadata": {},
   "outputs": [
    {
     "name": "stdout",
     "output_type": "stream",
     "text": [
      "Available Themes: \r\n",
      "   chesterish\r\n",
      "   grade3\r\n",
      "   monokai\r\n",
      "   oceans16\r\n",
      "   onedork\r\n",
      "   solarizedd\r\n",
      "   solarizedl\r\n"
     ]
    }
   ],
   "source": [
    "!jt -l"
   ]
  },
  {
   "cell_type": "markdown",
   "metadata": {},
   "source": [
    "> To get **jt** command options, in the terminal, type:  \n",
    "  \n",
    "> ```jt -h```  \n",
    "\n",
    "> Run the following code cell to get help..."
   ]
  },
  {
   "cell_type": "code",
   "execution_count": 11,
   "metadata": {},
   "outputs": [
    {
     "name": "stdout",
     "output_type": "stream",
     "text": [
      "usage: jt [-h] [-l] [-t THEME] [-f MONOFONT] [-fs MONOSIZE] [-nf NBFONT]\r\n",
      "          [-nfs NBFONTSIZE] [-tf TCFONT] [-tfs TCFONTSIZE] [-dfs DFFONTSIZE]\r\n",
      "          [-ofs OUTFONTSIZE] [-m MARGINS] [-cursw CURSORWIDTH]\r\n",
      "          [-cursc CURSORCOLOR] [-cellw CELLWIDTH] [-lineh LINEHEIGHT] [-altp]\r\n",
      "          [-P] [-T] [-N] [-vim] [-r] [-dfonts]\r\n",
      "\r\n",
      "optional arguments:\r\n",
      "  -h, --help            show this help message and exit\r\n",
      "  -l, --list            list available themes\r\n",
      "  -t THEME, --theme THEME\r\n",
      "                        theme name to install\r\n",
      "  -f MONOFONT, --monofont MONOFONT\r\n",
      "                        monospace code font\r\n",
      "  -fs MONOSIZE, --monosize MONOSIZE\r\n",
      "                        code font-size\r\n",
      "  -nf NBFONT, --nbfont NBFONT\r\n",
      "                        notebook font\r\n",
      "  -nfs NBFONTSIZE, --nbfontsize NBFONTSIZE\r\n",
      "                        notebook fontsize\r\n",
      "  -tf TCFONT, --tcfont TCFONT\r\n",
      "                        txtcell font\r\n",
      "  -tfs TCFONTSIZE, --tcfontsize TCFONTSIZE\r\n",
      "                        txtcell fontsize\r\n",
      "  -dfs DFFONTSIZE, --dffontsize DFFONTSIZE\r\n",
      "                        pandas dataframe fontsize\r\n",
      "  -ofs OUTFONTSIZE, --outfontsize OUTFONTSIZE\r\n",
      "                        output area fontsize\r\n",
      "  -m MARGINS, --margins MARGINS\r\n",
      "                        fix margins of main intro page\r\n",
      "  -cursw CURSORWIDTH, --cursorwidth CURSORWIDTH\r\n",
      "                        set cursorwidth (px)\r\n",
      "  -cursc CURSORCOLOR, --cursorcolor CURSORCOLOR\r\n",
      "                        cursor color (r, b, g, p)\r\n",
      "  -cellw CELLWIDTH, --cellwidth CELLWIDTH\r\n",
      "                        set cell width (px)\r\n",
      "  -lineh LINEHEIGHT, --lineheight LINEHEIGHT\r\n",
      "                        code/text line-height (%)\r\n",
      "  -altp, --altprompt    alt input prompt style\r\n",
      "  -P, --hideprompt      hide cell input prompt\r\n",
      "  -T, --toolbar         make toolbar visible\r\n",
      "  -N, --nbname          nb name/logo visible\r\n",
      "  -vim, --vimext        toggle styles for vim\r\n",
      "  -r, --reset           reset to default theme\r\n",
      "  -dfonts, --defaultfonts\r\n",
      "                        force fonts to browser default\r\n"
     ]
    }
   ],
   "source": [
    "!jt -h"
   ]
  },
  {
   "cell_type": "markdown",
   "metadata": {},
   "source": [
    "> Try out one theme..."
   ]
  },
  {
   "cell_type": "code",
   "execution_count": 13,
   "metadata": {
    "collapsed": true
   },
   "outputs": [],
   "source": [
    "!jt -t solarizedd"
   ]
  },
  {
   "cell_type": "markdown",
   "metadata": {},
   "source": [
    "> If you don't like any of these, you can restore the default theme."
   ]
  },
  {
   "cell_type": "code",
   "execution_count": 15,
   "metadata": {},
   "outputs": [
    {
     "name": "stdout",
     "output_type": "stream",
     "text": [
      "Reset css and font defaults in:\r\n",
      "/home/jovyan/.jupyter/custom &\r\n",
      "/home/jovyan/.local/share/jupyter/nbextensions\r\n"
     ]
    }
   ],
   "source": [
    "!jt -r"
   ]
  },
  {
   "cell_type": "markdown",
   "metadata": {
    "collapsed": true
   },
   "source": [
    "> Hey! I lost the custom logo! To restore the custom GEEKS logo, run the script below and click the browser reload button:"
   ]
  },
  {
   "cell_type": "code",
   "execution_count": 17,
   "metadata": {},
   "outputs": [],
   "source": [
    "!/srv/modules/restore-default-theme.sh"
   ]
  },
  {
   "cell_type": "markdown",
   "metadata": {},
   "source": [
    "## For any questions, please post on the GEEKS mailing list."
   ]
  },
  {
   "cell_type": "code",
   "execution_count": null,
   "metadata": {
    "collapsed": true
   },
   "outputs": [],
   "source": []
  }
 ],
 "metadata": {
  "hide_code_all_hidden": true,
  "kernelspec": {
   "display_name": "Python 2",
   "language": "python",
   "name": "python2"
  },
  "language_info": {
   "codemirror_mode": {
    "name": "ipython",
    "version": 2
   },
   "file_extension": ".py",
   "mimetype": "text/x-python",
   "name": "python",
   "nbconvert_exporter": "python",
   "pygments_lexer": "ipython2",
   "version": "2.7.13"
  }
 },
 "nbformat": 4,
 "nbformat_minor": 2
}
